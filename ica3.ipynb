{
 "cells": [
  {
   "cell_type": "code",
   "execution_count": 34,
   "metadata": {
    "collapsed": true
   },
   "outputs": [],
   "source": [
    "import numpy as np\n",
    "import matplotlib.pyplot as plt\n",
    "import root\n",
    "import scipy.optimize as opt\n",
    "%matplotlib inline"
   ]
  },
  {
   "cell_type": "code",
   "execution_count": 27,
   "metadata": {
    "collapsed": true
   },
   "outputs": [],
   "source": [
    "#def f_test(x):\n",
    "#    return x**2+3*x-19\n",
    "\n",
    "def f_test(x):\n",
    "    return x**4+3*x**2-19*x"
   ]
  },
  {
   "cell_type": "code",
   "execution_count": 28,
   "metadata": {
    "collapsed": true
   },
   "outputs": [],
   "source": [
    "def bisection(start,end,func):\n",
    "    a=start\n",
    "    b=end\n",
    "    dx=b-a\n",
    "    delta=1e-6\n",
    "    x_0=(a+b)/2\n",
    "    tries=[x_0]\n",
    "    while(np.abs(dx)>delta):\n",
    "        x_0=(a+b)/2\n",
    "        if (func(a)*func(x_0)<0):\n",
    "            b=x_0\n",
    "            dx=b-a\n",
    "            #print(b)\n",
    "        else:\n",
    "            a=x_0\n",
    "            dx=b-a\n",
    "            #print(a)\n",
    "        tries.append(x_0)\n",
    "        #print(tries)\n",
    "    return tries"
   ]
  },
  {
   "cell_type": "code",
   "execution_count": 29,
   "metadata": {
    "collapsed": false
   },
   "outputs": [
    {
     "name": "stdout",
     "output_type": "stream",
     "text": [
      "2.29644513130188\n"
     ]
    }
   ],
   "source": [
    "result_f_test1=bisection(-3,3,f_test)\n",
    "print(result_f_test1[len(result_f_test1)-1])"
   ]
  },
  {
   "cell_type": "code",
   "execution_count": 30,
   "metadata": {
    "collapsed": true
   },
   "outputs": [],
   "source": [
    "def deriv_f1(x):\n",
    "    return 3*(-4.77+4.93333*x+x**2)\n",
    "def deriv_f2(x):\n",
    "    return 0.2+0.4*np.cos(2*x)\n",
    "def deriv_f3(x):\n",
    "    return -4+x+2*np.cos(2*(-4+x))\n",
    "def deriv_f_test(x):\n",
    "    return 2*x+3\n",
    "\n",
    "def newtonian(start,end,func,deriv):\n",
    "    a=start\n",
    "    b=end\n",
    "    dx=b-a\n",
    "    delta=1e-6\n",
    "    x_0=(a+b)/2\n",
    "    tries_newt=[x_0]\n",
    "    while(np.abs(dx)>delta):\n",
    "        dx=func(x_0)/deriv(x_0)\n",
    "        x_0-=dx\n",
    "        tries_newt.append(x_0)\n",
    "    return tries_newt"
   ]
  },
  {
   "cell_type": "code",
   "execution_count": 32,
   "metadata": {
    "collapsed": false
   },
   "outputs": [
    {
     "name": "stdout",
     "output_type": "stream",
     "text": [
      "0.0\n"
     ]
    }
   ],
   "source": [
    "result_f_test2=newtonian(-5,5,f_test,deriv_f_test)\n",
    "print(result_f_test2[len(result_f_test2)-1])"
   ]
  },
  {
   "cell_type": "code",
   "execution_count": 62,
   "metadata": {
    "collapsed": false
   },
   "outputs": [
    {
     "name": "stdout",
     "output_type": "stream",
     "text": [
      "-2.71645974673\n"
     ]
    }
   ],
   "source": [
    "def f_breaking(x):\n",
    "    return np.sin(x)*x**6\n",
    "\n",
    "test_brent=opt.brent(f_breaking)\n",
    "print(test_brent)"
   ]
  },
  {
   "cell_type": "code",
   "execution_count": 63,
   "metadata": {
    "collapsed": false
   },
   "outputs": [
    {
     "name": "stdout",
     "output_type": "stream",
     "text": [
      "6.28318530718\n"
     ]
    }
   ],
   "source": [
    "test_newton=opt.newton(f_breaking)\n",
    "print(test_newton)"
   ]
  },
  {
   "cell_type": "code",
   "execution_count": 67,
   "metadata": {
    "collapsed": false
   },
   "outputs": [
    {
     "name": "stdout",
     "output_type": "stream",
     "text": [
      "0.0\n"
     ]
    }
   ],
   "source": [
    "test_bisect=opt.bisect(f_breaking,-5,5)\n",
    "print(test_bisect)"
   ]
  },
  {
   "cell_type": "code",
   "execution_count": null,
   "metadata": {
    "collapsed": true
   },
   "outputs": [],
   "source": []
  }
 ],
 "metadata": {
  "kernelspec": {
   "display_name": "Python [Root]",
   "language": "python",
   "name": "Python [Root]"
  },
  "language_info": {
   "codemirror_mode": {
    "name": "ipython",
    "version": 3
   },
   "file_extension": ".py",
   "mimetype": "text/x-python",
   "name": "python",
   "nbconvert_exporter": "python",
   "pygments_lexer": "ipython3",
   "version": "3.5.2"
  }
 },
 "nbformat": 4,
 "nbformat_minor": 0
}
